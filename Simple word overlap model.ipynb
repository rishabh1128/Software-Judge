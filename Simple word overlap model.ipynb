{
  "nbformat": 4,
  "nbformat_minor": 0,
  "metadata": {
    "colab": {
      "provenance": []
    },
    "kernelspec": {
      "name": "python3",
      "display_name": "Python 3"
    },
    "language_info": {
      "name": "python"
    },
    "gpuClass": "standard"
  },
  "cells": [
    {
      "cell_type": "markdown",
      "source": [
        "### **Importing section_dict from drive**"
      ],
      "metadata": {
        "id": "TuwzpGNlRSfR"
      }
    },
    {
      "cell_type": "code",
      "execution_count": 2,
      "metadata": {
        "colab": {
          "base_uri": "https://localhost:8080/"
        },
        "id": "eNm5KbTJHDE-",
        "outputId": "628c2f33-16d1-4a10-e7a3-15bc62a39687"
      },
      "outputs": [
        {
          "output_type": "stream",
          "name": "stdout",
          "text": [
            "Mounted at /content/drive\n"
          ]
        }
      ],
      "source": [
        "from google.colab import drive\n",
        "import json\n",
        "\n",
        "drive.mount('/content/drive',force_remount=True)\n",
        "section_dict = dict()\n",
        "\n",
        "with open('/content/drive/MyDrive/section_dict.json', 'r', encoding = 'utf-8') as file:\n",
        "  section_dict = json.load(file)"
      ]
    },
    {
      "cell_type": "code",
      "source": [
        "!pip install matplotlib"
      ],
      "metadata": {
        "colab": {
          "base_uri": "https://localhost:8080/"
        },
        "id": "VgN_D9zmP4_2",
        "outputId": "fea59ddb-ed46-4763-e3b3-0639ac001c6a"
      },
      "execution_count": 3,
      "outputs": [
        {
          "output_type": "stream",
          "name": "stdout",
          "text": [
            "Looking in indexes: https://pypi.org/simple, https://us-python.pkg.dev/colab-wheels/public/simple/\n",
            "Requirement already satisfied: matplotlib in /usr/local/lib/python3.7/dist-packages (3.2.2)\n",
            "Requirement already satisfied: cycler>=0.10 in /usr/local/lib/python3.7/dist-packages (from matplotlib) (0.11.0)\n",
            "Requirement already satisfied: python-dateutil>=2.1 in /usr/local/lib/python3.7/dist-packages (from matplotlib) (2.8.2)\n",
            "Requirement already satisfied: kiwisolver>=1.0.1 in /usr/local/lib/python3.7/dist-packages (from matplotlib) (1.4.4)\n",
            "Requirement already satisfied: numpy>=1.11 in /usr/local/lib/python3.7/dist-packages (from matplotlib) (1.21.6)\n",
            "Requirement already satisfied: pyparsing!=2.0.4,!=2.1.2,!=2.1.6,>=2.0.1 in /usr/local/lib/python3.7/dist-packages (from matplotlib) (3.0.9)\n",
            "Requirement already satisfied: typing-extensions in /usr/local/lib/python3.7/dist-packages (from kiwisolver>=1.0.1->matplotlib) (4.1.1)\n",
            "Requirement already satisfied: six>=1.5 in /usr/local/lib/python3.7/dist-packages (from python-dateutil>=2.1->matplotlib) (1.15.0)\n"
          ]
        }
      ]
    },
    {
      "cell_type": "code",
      "source": [
        "import matplotlib.pyplot as plt\n",
        "\n",
        "query = 'X tried to murder Y.'\n",
        "\n",
        "similarity = dict()\n",
        "\n",
        "stop_words = [\"a\", \"an\", \"the\", \"this\", \"that\", \"is\", \"it\", \"to\", \"and\"]\n",
        "\n",
        "for k,v in section_dict.items():\n",
        "  for query_word in query.split():\n",
        "    if query_word not in stop_words:\n",
        "      if similarity.get(k):\n",
        "        similarity[k] += v.count(query_word)\n",
        "      else:\n",
        "        similarity[k] = v.count(query_word)\n",
        "\n",
        "\n",
        "similarity = dict(sorted(similarity.items(), key=lambda kv: kv[1],reverse=True)[:5])\n",
        "\n",
        "xval = list(similarity.keys())\n",
        "yval = list(similarity.values())\n",
        "# f = lambda x:round(x*100,2)\n",
        "# yval = list(map(f,yval))\n",
        "\n",
        "plt.figure(figsize = (15,5))\n",
        "plt.bar(xval,yval,color = ['royalblue','orange','gold'])\n",
        "plt.xlabel(\"Section number\")\n",
        "plt.ylabel(\"Similarity score\")\n",
        "plt.title(\"The accused may be charged under the following sections\")\n",
        "plt.ylim(min(yval)-1,max(yval)+1)\n",
        "plt.show()\n",
        "\n",
        "print(\"\\n\")\n",
        "for k in similarity.keys():\n",
        "  print(k + ' : \\n\\n' + section_dict[k] + '\\n\\n')"
      ],
      "metadata": {
        "colab": {
          "base_uri": "https://localhost:8080/",
          "height": 1000
        },
        "id": "wCpnG0aXHZip",
        "outputId": "bb096529-ef27-42b6-d4ea-68f84e499667"
      },
      "execution_count": 15,
      "outputs": [
        {
          "output_type": "display_data",
          "data": {
            "text/plain": [
              "<Figure size 1080x360 with 1 Axes>"
            ],
            "image/png": "[encoded data removed]"
          },
          "metadata": {
            "needs_background": "light"
          }
        },
        {
          "output_type": "stream",
          "name": "stdout",
          "text": [
            "\n",
            "\n",
            "Section 376 : \n",
            "\n",
            " \n",
            "Whoever, except in the cases provided for in sub-section (2), commits rape, shall be punished with rigorous imprisonment of either description for a term which shall not be less than ten years, but which may extend to imprisonment for life, and shall also be liable to fine.\n",
            "Whoever—\n",
            "\t\t\n",
            "being a police officer, commits rape,\n",
            "\t\t\t\n",
            "within the limits of the police station to which such police officer is appointed; or\n",
            "in the premises of any station house; or\n",
            "on a woman in such police officer’s custody or in the custody of a police officer subordinate to such police officer; or\n",
            "\n",
            "being a public servant, commits rape on a woman in such public servant’s custody or in the custody of a public servant subordinate to such public servant; or\n",
            "being a member of the armed forces deployed in an area by the Central or a State Government commits rape in such area; or\n",
            "being on the management or on the staff of a jail, remand home or other place of custody established by or under any law for the time being in force or of a women’s or children’s institution, commits rape on any inmate of such jail, remand home, place or institution; or\n",
            "being on the management or on the staff of a hospital, commits rape on a woman in that hospital; or\n",
            "being a relative, guardian or teacher of, or a person in a position of trust or authority towards the woman, commits rape on such woman; or\n",
            "commits rape during communal or sectarian violence; or\n",
            "commits rape on a woman knowing her to be pregnant; or\n",
            "commits rape, on a woman incapable of giving consent; or\n",
            "being in a position of control or dominance over a woman, commits rape on such woman; or\n",
            "commits rape on a woman suffering from mental or physical disability; or\n",
            "while committing rape causes grievous bodily harm or maims or disfigures or endangers the life of a woman; or\n",
            "commits rape repeatedly on the same woman,\n",
            "shall be punished with rigorous imprisonment for a term which shall not be less than ten years, but which may extend to imprisonment for life, which shall mean imprisonment for the remainder of that person’s natural life, and shall also be liable to fine.\n",
            "\n",
            "Whoever, commits rape on a woman under sixteen years of age shall be punished with rigorous imprisonment for a term which shall not be less than twenty years, but which may extend to imprisonment for life, which shall mean imprisonment for the remainder of that person’s natural life, and shall also be liable to fine:1\n",
            "Provided that such fine shall be just and reasonable to meet the medical expenses and rehablitation of the victim:\n",
            "Provided further that any fine imposed under this sub-section shall be paid to the victim.\n",
            "\n",
            "Explanations\n",
            "\t\n",
            "For the purposes of sub-section 2\n",
            "\t\t\n",
            "“armed forces” means the naval, military and air forces and includes any member of the Armed Forces constituted under any Law for the time being in force, including the paramilitary forces and any auxiliary forces that are under the control of the Central Government, or the State Government;\n",
            "“hospital” means the precincts of the hospital and includes the precincts of any institution for the reception and treatment of persons during convalescence or of persons requiring medical attention or rehabilitation;\n",
            "“police officer” shall have the same meaning as assigned to the expression “police” under the Police Act, 1861;\n",
            "“women’s or children’s institution” means an institution, whether called an orphanage or a home for neglected women or children or a widow’s home or an institution called by any other name, which is established and maintained for the reception and care of women or children.\n",
            "\n",
            "\n",
            "1 Criminal Law (Amendment) Act, 2018\n",
            "\n",
            "\n",
            "Section 124A : \n",
            "\n",
            "Whoever by words, either spoken or written, or by signs, or by visible representation, or otherwise, brings or attempts to bring into hatred or contempt, or excites or attempts to excite disaffection towards, the Government established by law in India, a shall be punished with imprisonment for life, to which fine may be added, or with imprisonment which may extend to three years, to which fine may be added, or with fine.\n",
            "\n",
            "\n",
            "Section 153B : \n",
            "\n",
            " \n",
            "Whoever, by words either spoken or written or by signs or by visible representations or otherwise:\n",
            "\t\t\n",
            "makes or publishes any imputation that any class of persons cannot, by reason of their being members of any religious, racial, language or regional group or caste or community, bear true faith and allegiance to the Constitution of India as by law established or uphold the sovereignty and integrity of India, or\n",
            "asserts, counsels, advises, propagates or publishes that any class of persons by reason of their being members of any religious, racial, language or regional group or caste or community be denied, or deprived of their rights as citizens of India, or\n",
            "makes or publishes any assertion, counsel, plea or appeal concerning the obligation of any class of persons, by reason of their being members of any religious, racial, language or regional group or caste or community, and such assertion, counsel, plea or appeal causes or is likely to cause disharmony or feelings of enmity or hatred or ill-will between such members and other persons, shall be punished with imprisonment which may extend to three years, or with fine, or with both.\n",
            "\n",
            "Whoever commits an offence specified in sub-section (1), in any place of worship or in any assembly engaged in the performance of religious worship or religious ceremonies, shall be punished with imprisonment which may extend to five years and shall also be liable to fine.\n",
            "\n",
            "\n",
            "\n",
            "Section 244 : \n",
            "\n",
            "Whoever, being employed in any mint lawfully established in India, does any act, or omits what he is legally bound to do, with the intention of causing any coin issued from that mint to be of a different weight or composition from the weight or composition fixed by law, shall be punished with imprisonment of either description for a term which may extend to seven years, and shall also be liable to fine.\n",
            "\n",
            "\n",
            "Section 245 : \n",
            "\n",
            "Whoever, without lawful authority, takes out of any mint, lawfully established in India, any coining tool or instrument, shall be punished with imprisonment of either description for a term which may extend to seven years, and shall also be liable to fine.\n",
            "\n",
            "\n"
          ]
        }
      ]
    }
  ]
}